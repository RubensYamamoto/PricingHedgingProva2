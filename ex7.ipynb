{
 "cells": [
  {
   "cell_type": "markdown",
   "metadata": {},
   "source": [
    "# Exercício 7:\n",
    "\n",
    "E se houvesse o stop loss verificado a cada rebalanceamento mas este fosse semanal ao invés de diário?"
   ]
  },
  {
   "cell_type": "code",
   "execution_count": 1,
   "metadata": {
    "collapsed": true
   },
   "outputs": [],
   "source": [
    "from __future__ import division\n",
    "import datetime\n",
    "import base\n",
    "import pandas as pd\n",
    "from dateutil.relativedelta import relativedelta\n",
    "%matplotlib inline"
   ]
  },
  {
   "cell_type": "markdown",
   "metadata": {},
   "source": [
    "#### Calculando stop loss para 3-b que está vendendo uma opção de 1m e fez o delta hedge até o final:"
   ]
  },
  {
   "cell_type": "code",
   "execution_count": 2,
   "metadata": {
    "collapsed": false
   },
   "outputs": [
    {
     "data": {
      "text/plain": [
       "-0.26140795685632495"
      ]
     },
     "execution_count": 2,
     "metadata": {},
     "output_type": "execute_result"
    }
   ],
   "source": [
    "phi=base.call\n",
    "position=base.positionShort\n",
    "tenor=1\n",
    "startDate = datetime.datetime.strptime('06/30/2015', '%m/%d/%Y')\n",
    "sb=base.calcPortfolioRebalancingWeekly(phi, position, tenor, startDate)\n",
    "bStopLoss=(sb.min())*0.80\n",
    "bStopLoss"
   ]
  },
  {
   "cell_type": "markdown",
   "metadata": {},
   "source": [
    "Criando métodos para buscar índice do primeiro elemento na série que ultrapasse o stop loss:"
   ]
  },
  {
   "cell_type": "code",
   "execution_count": 3,
   "metadata": {
    "collapsed": true
   },
   "outputs": [],
   "source": [
    "# loop serie and check weekly if stop loss was hit\n",
    "def findStopLossIndex(inputSerie, stopLoss):\n",
    "    idx=0\n",
    "    for i in range(len(inputSerie)-1):\n",
    "        idx=i\n",
    "        if (inputSerie[i] < stopLoss):\n",
    "            break\n",
    "    return idx"
   ]
  },
  {
   "cell_type": "markdown",
   "metadata": {},
   "source": [
    "Encontrando o valor do portfolio se o stop loss for atingido:"
   ]
  },
  {
   "cell_type": "code",
   "execution_count": 4,
   "metadata": {
    "collapsed": false
   },
   "outputs": [
    {
     "data": {
      "text/html": [
       "<div>\n",
       "<table border=\"1\" class=\"dataframe\">\n",
       "  <thead>\n",
       "    <tr style=\"text-align: right;\">\n",
       "      <th></th>\n",
       "      <th>Perda Máxima</th>\n",
       "      <th>Data Perda Máxima</th>\n",
       "    </tr>\n",
       "  </thead>\n",
       "  <tbody>\n",
       "    <tr>\n",
       "      <th>0</th>\n",
       "      <td>-0.306708</td>\n",
       "      <td>2015-07-24</td>\n",
       "    </tr>\n",
       "  </tbody>\n",
       "</table>\n",
       "</div>"
      ],
      "text/plain": [
       "   Perda Máxima Data Perda Máxima\n",
       "0     -0.306708        2015-07-24"
      ]
     },
     "execution_count": 4,
     "metadata": {},
     "output_type": "execute_result"
    }
   ],
   "source": [
    "sbIdx=findStopLossIndex(sb, bStopLoss)\n",
    "pd.DataFrame([[sb[sbIdx], sb.index[sbIdx]]], \\\n",
    "             columns=['Perda Máxima','Data Perda Máxima'])"
   ]
  },
  {
   "cell_type": "markdown",
   "metadata": {},
   "source": [
    "#### Calculando stop loss para 3-d que está vendendo uma opção de 3m e fez o delta hedge até o final:"
   ]
  },
  {
   "cell_type": "code",
   "execution_count": 5,
   "metadata": {
    "collapsed": false
   },
   "outputs": [
    {
     "data": {
      "text/plain": [
       "-1.3774814146389627"
      ]
     },
     "execution_count": 5,
     "metadata": {},
     "output_type": "execute_result"
    }
   ],
   "source": [
    "tenor=3\n",
    "sd=base.calcPortfolioRebalancingWeekly(phi, position, tenor, startDate)\n",
    "dStopLoss=(sd.min())*0.80\n",
    "dStopLoss"
   ]
  },
  {
   "cell_type": "code",
   "execution_count": 6,
   "metadata": {
    "collapsed": false
   },
   "outputs": [
    {
     "data": {
      "text/html": [
       "<div>\n",
       "<table border=\"1\" class=\"dataframe\">\n",
       "  <thead>\n",
       "    <tr style=\"text-align: right;\">\n",
       "      <th></th>\n",
       "      <th>Perda Máxima</th>\n",
       "      <th>Data Perda Máxima</th>\n",
       "    </tr>\n",
       "  </thead>\n",
       "  <tbody>\n",
       "    <tr>\n",
       "      <th>0</th>\n",
       "      <td>-1.471653</td>\n",
       "      <td>2015-09-22</td>\n",
       "    </tr>\n",
       "  </tbody>\n",
       "</table>\n",
       "</div>"
      ],
      "text/plain": [
       "   Perda Máxima Data Perda Máxima\n",
       "0     -1.471653        2015-09-22"
      ]
     },
     "execution_count": 6,
     "metadata": {},
     "output_type": "execute_result"
    }
   ],
   "source": [
    "sdIdx=findStopLossIndex(sd, dStopLoss)\n",
    "pd.DataFrame([[sd[sdIdx], sd.index[sdIdx]]], \\\n",
    "             columns=['Perda Máxima','Data Perda Máxima'])"
   ]
  },
  {
   "cell_type": "markdown",
   "metadata": {},
   "source": [
    "#### Calculando stop loss para 3-f que está vendendo uma opção de 12m e fez o delta hedge até o final:"
   ]
  },
  {
   "cell_type": "code",
   "execution_count": 7,
   "metadata": {
    "collapsed": false
   },
   "outputs": [
    {
     "data": {
      "text/plain": [
       "-1.2007904946739822"
      ]
     },
     "execution_count": 7,
     "metadata": {},
     "output_type": "execute_result"
    }
   ],
   "source": [
    "tenor=12\n",
    "sf=base.calcPortfolioRebalancingWeekly(phi, position, tenor, startDate)\n",
    "fStopLoss=(sf.min())*0.80\n",
    "fStopLoss"
   ]
  },
  {
   "cell_type": "code",
   "execution_count": 8,
   "metadata": {
    "collapsed": false
   },
   "outputs": [
    {
     "data": {
      "text/html": [
       "<div>\n",
       "<table border=\"1\" class=\"dataframe\">\n",
       "  <thead>\n",
       "    <tr style=\"text-align: right;\">\n",
       "      <th></th>\n",
       "      <th>Perda Máxima</th>\n",
       "      <th>Data Perda Máxima</th>\n",
       "    </tr>\n",
       "  </thead>\n",
       "  <tbody>\n",
       "    <tr>\n",
       "      <th>0</th>\n",
       "      <td>-1.236162</td>\n",
       "      <td>2015-09-22</td>\n",
       "    </tr>\n",
       "  </tbody>\n",
       "</table>\n",
       "</div>"
      ],
      "text/plain": [
       "   Perda Máxima Data Perda Máxima\n",
       "0     -1.236162        2015-09-22"
      ]
     },
     "execution_count": 8,
     "metadata": {},
     "output_type": "execute_result"
    }
   ],
   "source": [
    "sfIdx=findStopLossIndex(sf, fStopLoss)\n",
    "pd.DataFrame([[sf[sfIdx], sd.index[sfIdx]]], \\\n",
    "             columns=['Perda Máxima','Data Perda Máxima'])"
   ]
  }
 ],
 "metadata": {
  "kernelspec": {
   "display_name": "Python 3",
   "language": "python",
   "name": "python3"
  },
  "language_info": {
   "codemirror_mode": {
    "name": "ipython",
    "version": 3
   },
   "file_extension": ".py",
   "mimetype": "text/x-python",
   "name": "python",
   "nbconvert_exporter": "python",
   "pygments_lexer": "ipython3",
   "version": "3.5.1"
  }
 },
 "nbformat": 4,
 "nbformat_minor": 0
}
