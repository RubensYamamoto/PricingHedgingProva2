{
 "cells": [
  {
   "cell_type": "markdown",
   "metadata": {},
   "source": [
    "# Exercício 8:\n",
    "O chefe do fundo não gosta de opções, ele comprou um forward de um ano. O seu escudeiro comprou um\n",
    "forward de um mês e rolou 11 vezes o trade. Quais os resultados e perdas máximas?"
   ]
  },
  {
   "cell_type": "code",
   "execution_count": 1,
   "metadata": {
    "collapsed": true
   },
   "outputs": [],
   "source": [
    "from __future__ import division\n",
    "import datetime\n",
    "import base\n",
    "import pandas as pd\n",
    "from dateutil.relativedelta import relativedelta\n",
    "%matplotlib inline"
   ]
  },
  {
   "cell_type": "markdown",
   "metadata": {},
   "source": [
    "Criando método para calcular o portfolio do chefe do fundo:"
   ]
  },
  {
   "cell_type": "code",
   "execution_count": 2,
   "metadata": {
    "collapsed": true
   },
   "outputs": [],
   "source": [
    "def calcHeadFundPortfolio(position, tenor, startDate):\n",
    "    df=base.fillPartialDf(base.call, position, tenor, startDate)\n",
    "    nstp=len(df.index)-1\n",
    "    df['portf']=0\n",
    "    for j in range(1,nstp+1):\n",
    "        df.loc[j:,'portf']=(df['fwd'][j]-df['fwd'][0])*df['df'][j]\n",
    "    \n",
    "    df.loc[nstp,'portf']=df['ptax'][nstp]-df['fwd'][0]\n",
    "    return pd.Series(df['portf'].values, index=df['date'].values)"
   ]
  },
  {
   "cell_type": "markdown",
   "metadata": {},
   "source": [
    "Calculando o portfolio do chefe:"
   ]
  },
  {
   "cell_type": "code",
   "execution_count": 3,
   "metadata": {
    "collapsed": false
   },
   "outputs": [
    {
     "data": {
      "text/plain": [
       "2015-06-30    0.000000\n",
       "2015-07-01    0.040977\n",
       "2015-07-02   -0.015879\n",
       "2015-07-03    0.017921\n",
       "2015-07-06    0.017862\n",
       "2015-07-07    0.063224\n",
       "2015-07-08    0.109107\n",
       "2015-07-09    0.108175\n",
       "2015-07-10    0.031548\n",
       "2015-07-13    0.007147\n",
       "2015-07-14    0.011410\n",
       "2015-07-15    0.003973\n",
       "2015-07-16    0.018093\n",
       "2015-07-17    0.048552\n",
       "2015-07-20    0.050545\n",
       "2015-07-21    0.047912\n",
       "2015-07-22    0.069210\n",
       "2015-07-23    0.128171\n",
       "2015-07-24    0.194256\n",
       "2015-07-27    0.211671\n",
       "2015-07-28    0.203387\n",
       "2015-07-29    0.177659\n",
       "2015-07-30    0.225047\n",
       "2015-07-31    0.279683\n",
       "2015-08-03    0.283323\n",
       "2015-08-04    0.293991\n",
       "2015-08-05    0.304038\n",
       "2015-08-06    0.347182\n",
       "2015-08-07    0.325479\n",
       "2015-08-10    0.260721\n",
       "                ...   \n",
       "2016-05-12    0.056008\n",
       "2016-05-13    0.102725\n",
       "2016-05-16    0.069780\n",
       "2016-05-17    0.057994\n",
       "2016-05-18    0.131909\n",
       "2016-05-19    0.126770\n",
       "2016-05-20    0.084546\n",
       "2016-05-23    0.135640\n",
       "2016-05-24    0.131511\n",
       "2016-05-25    0.139356\n",
       "2016-05-26    0.138536\n",
       "2016-05-27    0.158651\n",
       "2016-05-30    0.126110\n",
       "2016-05-31    0.164663\n",
       "2016-06-01    0.151095\n",
       "2016-06-02    0.144167\n",
       "2016-06-03    0.077802\n",
       "2016-06-06    0.042113\n",
       "2016-06-07   -0.005963\n",
       "2016-06-08   -0.093518\n",
       "2016-06-09   -0.056398\n",
       "2016-06-10   -0.041466\n",
       "2016-06-13    0.022457\n",
       "2016-06-14    0.019747\n",
       "2016-06-15    0.006886\n",
       "2016-06-16   -0.000874\n",
       "2016-06-17   -0.040103\n",
       "2016-06-20   -0.073261\n",
       "2016-06-21   -0.049838\n",
       "2016-06-22   -0.085898\n",
       "dtype: float64"
      ]
     },
     "execution_count": 3,
     "metadata": {},
     "output_type": "execute_result"
    }
   ],
   "source": [
    "position=base.positionLong\n",
    "tenor=12\n",
    "startDate = datetime.datetime.strptime('06/30/2015', '%m/%d/%Y')\n",
    "sChefe=calcHeadFundPortfolio(position, tenor, startDate)\n",
    "sChefe"
   ]
  },
  {
   "cell_type": "markdown",
   "metadata": {},
   "source": [
    "Resultado:"
   ]
  },
  {
   "cell_type": "code",
   "execution_count": 4,
   "metadata": {
    "collapsed": false
   },
   "outputs": [
    {
     "data": {
      "text/html": [
       "<div>\n",
       "<table border=\"1\" class=\"dataframe\">\n",
       "  <thead>\n",
       "    <tr style=\"text-align: right;\">\n",
       "      <th></th>\n",
       "      <th>PnL Final</th>\n",
       "      <th>Perda Máxima</th>\n",
       "      <th>Data Perda Máxima</th>\n",
       "    </tr>\n",
       "  </thead>\n",
       "  <tbody>\n",
       "    <tr>\n",
       "      <th>0</th>\n",
       "      <td>-0.085898</td>\n",
       "      <td>-0.093518</td>\n",
       "      <td>2016-06-08</td>\n",
       "    </tr>\n",
       "  </tbody>\n",
       "</table>\n",
       "</div>"
      ],
      "text/plain": [
       "   PnL Final  Perda Máxima Data Perda Máxima\n",
       "0  -0.085898     -0.093518        2016-06-08"
      ]
     },
     "execution_count": 4,
     "metadata": {},
     "output_type": "execute_result"
    }
   ],
   "source": [
    "pd.DataFrame([[sChefe[len(sChefe)-1], sChefe.min(), sChefe.idxmin()]], \\\n",
    "             columns=['PnL Final','Perda Máxima','Data Perda Máxima'])"
   ]
  },
  {
   "cell_type": "markdown",
   "metadata": {},
   "source": [
    "Não consegui fazer o portfolio do escudeiro."
   ]
  },
  {
   "cell_type": "code",
   "execution_count": null,
   "metadata": {
    "collapsed": true
   },
   "outputs": [],
   "source": []
  }
 ],
 "metadata": {
  "kernelspec": {
   "display_name": "Python 3",
   "language": "python",
   "name": "python3"
  },
  "language_info": {
   "codemirror_mode": {
    "name": "ipython",
    "version": 3
   },
   "file_extension": ".py",
   "mimetype": "text/x-python",
   "name": "python",
   "nbconvert_exporter": "python",
   "pygments_lexer": "ipython3",
   "version": "3.5.1"
  }
 },
 "nbformat": 4,
 "nbformat_minor": 0
}
