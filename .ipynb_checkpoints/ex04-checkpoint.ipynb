{
 "cells": [
  {
   "cell_type": "markdown",
   "metadata": {},
   "source": [
    "# Exercício 4:\n",
    "Calcule o prêmio da opção de 12 meses usando:\n",
    "\n",
    "a) Monte Carlo:"
   ]
  },
  {
   "cell_type": "code",
   "execution_count": 1,
   "metadata": {
    "collapsed": true
   },
   "outputs": [],
   "source": [
    "from __future__ import division\n",
    "\n",
    "import base\n",
    "import numpy as np\n",
    "import matplotlib.pyplot as plt\n",
    "import pandas as pd\n",
    "import datetime\n",
    "import scipy.stats as st\n",
    "\n",
    "%matplotlib inline"
   ]
  },
  {
   "cell_type": "markdown",
   "metadata": {},
   "source": [
    "Implementando os métodos:"
   ]
  },
  {
   "cell_type": "code",
   "execution_count": 2,
   "metadata": {
    "collapsed": true
   },
   "outputs": [],
   "source": [
    "def ca(x, size):\n",
    "    y = np.empty(size)\n",
    "    y.fill(x)\n",
    "    return y\n",
    "\n",
    "def ppzero(s):\n",
    "    return pd.Series(pd.Series.append(pd.Series([0]), s).values)\n",
    "\n",
    "# monte carlo generator\n",
    "def mc(nsteps, S0, drift, vol, t):\n",
    "    # Generates nsteps random numbers N(0, 1)\n",
    "    nmdr = pd.Series(np.random.standard_normal(nsteps))\n",
    "    # Time discretization\n",
    "    dt = t/nsteps\n",
    "    s1 = (drift - pow(vol, 2)/2) * dt\n",
    "    s2 = vol * np.sqrt(dt)\n",
    "    # Steps = Sum of two vectors\n",
    "    steps = s1 * pd.Series(ca(1, nsteps)) + s2 * nmdr\n",
    "    steps0 = ppzero(steps)\n",
    "    # Accumulate\n",
    "    cmsteps = steps0.cumsum()\n",
    "    # Convert steps to path\n",
    "    Sj = S0 * np.exp( cmsteps.values )\n",
    "    lastIdx=len(Sj)-1\n",
    "    return Sj[lastIdx]\n",
    "\n",
    "# generate spots via Monte Carlo\n",
    "def genSpotsMC(npaths, nsteps, S0, drift, vol, t):\n",
    "    # generate npaths using mcpath\n",
    "    paths=[mc(nsteps, S0, drift, vol, t) for j in range(npaths)]\n",
    "    return paths\n",
    "\n",
    "def bsv(phi, S, K, r, q, vol, t):\n",
    "    if (t > 0):\n",
    "        fwd=S*np.exp((r-q)*t)\n",
    "        efv=t*(vol**2)\n",
    "        # calculate d1 and d2\n",
    "        d1=(np.log(fwd/K)+(efv/2))/(np.sqrt(efv))\n",
    "        d2=(np.log(fwd/K)-(efv/2))/(np.sqrt(efv))\n",
    "        # calculate N(d1) and N(d2)\n",
    "        Nd1=st.norm.cdf(phi*d1)\n",
    "        Nd2=st.norm.cdf(phi*d2)\n",
    "        # calculate premium\n",
    "        pr=phi*S*np.exp(-q*t)*Nd1-phi*K*np.exp(-r*t)*Nd2\n",
    "    return pr\n",
    "\n",
    "def calcPremiums(spots, phi, K ,r, q, vol, T):\n",
    "    premiums=np.array([bsv(phi, spots[j], K, r, q, vol, T)\\\n",
    "                      for j in range(len(spots))])\n",
    "\n",
    "    return pd.Series(premiums)"
   ]
  },
  {
   "cell_type": "markdown",
   "metadata": {},
   "source": [
    "Gerando os passos por Monte Carlo a partir dos dados do dia 30-Jun-2015:"
   ]
  },
  {
   "cell_type": "code",
   "execution_count": 19,
   "metadata": {
    "collapsed": false
   },
   "outputs": [],
   "source": [
    "refDate = datetime.datetime.strptime('06/30/2015', '%m/%d/%Y')\n",
    "idx = base.referenceDates_df.loc[base.referenceDates_df['Date'] == refDate].index[0]\n",
    "\n",
    "phi=1\n",
    "S0=base.usdbrl_df['PX_LAST'][idx]\n",
    "K=S0\n",
    "r=(base.swapPreCDI12M_df['PX_LAST'][idx])/100\n",
    "q=0\n",
    "vol=(base.volATM12M_df['PX_LAST'][idx])/100\n",
    "T=1\n",
    "npaths=10000\n",
    "nsteps=252\n",
    "generatedSpots=genSpotsMC(npaths, nsteps, S0, r-q, vol, T)\n",
    "premiums=calcPremiums(generatedSpots, phi, K ,r, q, vol, T)"
   ]
  },
  {
   "cell_type": "markdown",
   "metadata": {
    "collapsed": false
   },
   "source": [
    "Resultado:"
   ]
  },
  {
   "cell_type": "code",
   "execution_count": 20,
   "metadata": {
    "collapsed": false
   },
   "outputs": [
    {
     "data": {
      "text/html": [
       "<div>\n",
       "<table border=\"1\" class=\"dataframe\">\n",
       "  <thead>\n",
       "    <tr style=\"text-align: right;\">\n",
       "      <th></th>\n",
       "      <th>Mean</th>\n",
       "      <th>Standard Dev</th>\n",
       "    </tr>\n",
       "  </thead>\n",
       "  <tbody>\n",
       "    <tr>\n",
       "      <th>0</th>\n",
       "      <td>0.997104</td>\n",
       "      <td>0.597342</td>\n",
       "    </tr>\n",
       "  </tbody>\n",
       "</table>\n",
       "</div>"
      ],
      "text/plain": [
       "       Mean  Standard Dev\n",
       "0  0.997104      0.597342"
      ]
     },
     "execution_count": 20,
     "metadata": {},
     "output_type": "execute_result"
    }
   ],
   "source": [
    "pd.DataFrame([[premiums.mean(),premiums.std()]], columns=['Mean', 'Standard Dev'])"
   ]
  },
  {
   "cell_type": "code",
   "execution_count": null,
   "metadata": {
    "collapsed": true
   },
   "outputs": [],
   "source": []
  }
 ],
 "metadata": {
  "kernelspec": {
   "display_name": "Python 3",
   "language": "python",
   "name": "python3"
  },
  "language_info": {
   "codemirror_mode": {
    "name": "ipython",
    "version": 3
   },
   "file_extension": ".py",
   "mimetype": "text/x-python",
   "name": "python",
   "nbconvert_exporter": "python",
   "pygments_lexer": "ipython3",
   "version": "3.5.1"
  }
 },
 "nbformat": 4,
 "nbformat_minor": 0
}
