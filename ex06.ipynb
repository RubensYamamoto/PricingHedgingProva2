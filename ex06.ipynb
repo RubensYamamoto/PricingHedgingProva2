{
 "cells": [
  {
   "cell_type": "markdown",
   "metadata": {},
   "source": [
    "# Exercício 6:\n",
    "\n",
    "O que aconteceria se o time da questão 5 tivesse um stop loss igual a 80% da perda máxima calculada\n",
    "estabelecido a priori (ou seja, antes do trade)?"
   ]
  },
  {
   "cell_type": "code",
   "execution_count": 1,
   "metadata": {
    "collapsed": true
   },
   "outputs": [],
   "source": [
    "from __future__ import division\n",
    "import datetime\n",
    "import base\n",
    "import pandas as pd\n",
    "%matplotlib inline"
   ]
  },
  {
   "cell_type": "markdown",
   "metadata": {},
   "source": [
    "#### Calculando para 3-b que está vendendo uma opção de 1m e fez o delta hedge até o final:"
   ]
  },
  {
   "cell_type": "code",
   "execution_count": 2,
   "metadata": {
    "collapsed": false
   },
   "outputs": [],
   "source": [
    "phi=base.call\n",
    "position=base.positionShort\n",
    "tenor=1\n",
    "startDate = datetime.datetime.strptime('06/30/2015', '%m/%d/%Y')\n",
    "includeHedge=1\n",
    "sb=base.calcPortfolio(phi, position, tenor, startDate, includeHedge)"
   ]
  },
  {
   "cell_type": "markdown",
   "metadata": {},
   "source": [
    "80% da perda máxima:"
   ]
  },
  {
   "cell_type": "code",
   "execution_count": 3,
   "metadata": {
    "collapsed": false
   },
   "outputs": [
    {
     "data": {
      "text/plain": [
       "-0.18569605593158234"
      ]
     },
     "execution_count": 3,
     "metadata": {},
     "output_type": "execute_result"
    }
   ],
   "source": [
    "bStopLoss=(sb.min())*0.80\n",
    "bStopLoss"
   ]
  },
  {
   "cell_type": "markdown",
   "metadata": {},
   "source": [
    "Criando método para buscar índice do primeiro elemento na série que ultrapasse o stop loss:"
   ]
  },
  {
   "cell_type": "code",
   "execution_count": 4,
   "metadata": {
    "collapsed": true
   },
   "outputs": [],
   "source": [
    "def findStopLossIndex(inputSerie, stopLoss):\n",
    "    idx=0\n",
    "    for i in range(len(inputSerie)-1):\n",
    "        idx=i\n",
    "        if (inputSerie[i] < stopLoss):\n",
    "            break\n",
    "    return idx"
   ]
  },
  {
   "cell_type": "markdown",
   "metadata": {},
   "source": [
    "Encontrando o valor do portfolio se o stop loss for atingido:"
   ]
  },
  {
   "cell_type": "code",
   "execution_count": 5,
   "metadata": {
    "collapsed": false
   },
   "outputs": [
    {
     "data": {
      "text/html": [
       "<div>\n",
       "<table border=\"1\" class=\"dataframe\">\n",
       "  <thead>\n",
       "    <tr style=\"text-align: right;\">\n",
       "      <th></th>\n",
       "      <th>PnL no stop loss</th>\n",
       "      <th>Data do stop loss</th>\n",
       "    </tr>\n",
       "  </thead>\n",
       "  <tbody>\n",
       "    <tr>\n",
       "      <th>0</th>\n",
       "      <td>-0.23212</td>\n",
       "      <td>2015-07-24</td>\n",
       "    </tr>\n",
       "  </tbody>\n",
       "</table>\n",
       "</div>"
      ],
      "text/plain": [
       "   PnL no stop loss Data do stop loss\n",
       "0          -0.23212        2015-07-24"
      ]
     },
     "execution_count": 5,
     "metadata": {},
     "output_type": "execute_result"
    }
   ],
   "source": [
    "sbIdx=findStopLossIndex(sb, bStopLoss)\n",
    "pd.DataFrame([[sb[sbIdx], sb.index[sbIdx]]], \\\n",
    "             columns=['PnL no stop loss','Data do stop loss'])"
   ]
  },
  {
   "cell_type": "markdown",
   "metadata": {},
   "source": [
    "#### Calculando stop loss para 3-d que está vendendo uma opção de 3m e fez o delta hedge até o final:"
   ]
  },
  {
   "cell_type": "code",
   "execution_count": 6,
   "metadata": {
    "collapsed": false
   },
   "outputs": [
    {
     "data": {
      "text/plain": [
       "-0.8039312190299589"
      ]
     },
     "execution_count": 6,
     "metadata": {},
     "output_type": "execute_result"
    }
   ],
   "source": [
    "tenor=3\n",
    "sd=base.calcPortfolio(phi, position, tenor, startDate, includeHedge)\n",
    "dStopLoss=(sd.min())*0.80\n",
    "dStopLoss"
   ]
  },
  {
   "cell_type": "code",
   "execution_count": 7,
   "metadata": {
    "collapsed": false
   },
   "outputs": [
    {
     "data": {
      "text/html": [
       "<div>\n",
       "<table border=\"1\" class=\"dataframe\">\n",
       "  <thead>\n",
       "    <tr style=\"text-align: right;\">\n",
       "      <th></th>\n",
       "      <th>PnL no stop loss</th>\n",
       "      <th>Data do stop loss</th>\n",
       "    </tr>\n",
       "  </thead>\n",
       "  <tbody>\n",
       "    <tr>\n",
       "      <th>0</th>\n",
       "      <td>-0.818978</td>\n",
       "      <td>2015-09-22</td>\n",
       "    </tr>\n",
       "  </tbody>\n",
       "</table>\n",
       "</div>"
      ],
      "text/plain": [
       "   PnL no stop loss Data do stop loss\n",
       "0         -0.818978        2015-09-22"
      ]
     },
     "execution_count": 7,
     "metadata": {},
     "output_type": "execute_result"
    }
   ],
   "source": [
    "sdIdx=findStopLossIndex(sd, dStopLoss)\n",
    "pd.DataFrame([[sd[sdIdx], sd.index[sdIdx]]], \\\n",
    "             columns=['PnL no stop loss','Data do stop loss'])"
   ]
  },
  {
   "cell_type": "markdown",
   "metadata": {},
   "source": [
    "#### Calculando stop loss para 3-f que está vendendo uma opção de 12m e fez o delta hedge até o final:"
   ]
  },
  {
   "cell_type": "code",
   "execution_count": 8,
   "metadata": {
    "collapsed": false
   },
   "outputs": [
    {
     "data": {
      "text/plain": [
       "-0.7254598836759405"
      ]
     },
     "execution_count": 8,
     "metadata": {},
     "output_type": "execute_result"
    }
   ],
   "source": [
    "tenor=12\n",
    "sf=base.calcPortfolio(phi, position, tenor, startDate, includeHedge)\n",
    "fStopLoss=(sf.min())*0.80\n",
    "fStopLoss"
   ]
  },
  {
   "cell_type": "code",
   "execution_count": 9,
   "metadata": {
    "collapsed": false
   },
   "outputs": [
    {
     "data": {
      "text/html": [
       "<div>\n",
       "<table border=\"1\" class=\"dataframe\">\n",
       "  <thead>\n",
       "    <tr style=\"text-align: right;\">\n",
       "      <th></th>\n",
       "      <th>PnL no stop loss</th>\n",
       "      <th>Data do stop loss</th>\n",
       "    </tr>\n",
       "  </thead>\n",
       "  <tbody>\n",
       "    <tr>\n",
       "      <th>0</th>\n",
       "      <td>-0.906825</td>\n",
       "      <td>2015-09-23</td>\n",
       "    </tr>\n",
       "  </tbody>\n",
       "</table>\n",
       "</div>"
      ],
      "text/plain": [
       "   PnL no stop loss Data do stop loss\n",
       "0         -0.906825        2015-09-23"
      ]
     },
     "execution_count": 9,
     "metadata": {},
     "output_type": "execute_result"
    }
   ],
   "source": [
    "sfIdx=findStopLossIndex(sf, fStopLoss)\n",
    "pd.DataFrame([[sf[sfIdx], sd.index[sfIdx]]], \\\n",
    "             columns=['PnL no stop loss','Data do stop loss'])"
   ]
  }
 ],
 "metadata": {
  "kernelspec": {
   "display_name": "Python 3",
   "language": "python",
   "name": "python3"
  },
  "language_info": {
   "codemirror_mode": {
    "name": "ipython",
    "version": 3
   },
   "file_extension": ".py",
   "mimetype": "text/x-python",
   "name": "python",
   "nbconvert_exporter": "python",
   "pygments_lexer": "ipython3",
   "version": "3.5.1"
  }
 },
 "nbformat": 4,
 "nbformat_minor": 0
}
