{
 "cells": [
  {
   "cell_type": "markdown",
   "metadata": {},
   "source": [
    "# Preparação dos métodos e dados\n",
    "Nesta seção são criados os métodos e dados que serão utilizados nos exercícios da prova.\n",
    "\n",
    "Eles foram salvos no arquivo base.py e importados em cada exercício."
   ]
  },
  {
   "cell_type": "code",
   "execution_count": 1,
   "metadata": {
    "collapsed": true
   },
   "outputs": [],
   "source": [
    "import pandas as pd\n",
    "import numpy as np\n",
    "import scipy.stats as st\n",
    "import datetime\n",
    "from dateutil.relativedelta import relativedelta"
   ]
  },
  {
   "cell_type": "markdown",
   "metadata": {},
   "source": [
    "Definindo as constantes:"
   ]
  },
  {
   "cell_type": "code",
   "execution_count": 2,
   "metadata": {
    "collapsed": true
   },
   "outputs": [],
   "source": [
    "call=1\n",
    "put=-1\n",
    "positionLong=1\n",
    "positionShort=-1"
   ]
  },
  {
   "cell_type": "markdown",
   "metadata": {},
   "source": [
    "Extraindo os dados do Excel e criando dataframes para cada tipo de informação:"
   ]
  },
  {
   "cell_type": "code",
   "execution_count": 3,
   "metadata": {
    "collapsed": false
   },
   "outputs": [],
   "source": [
    "path = 'C:/Users/RUBENS_PC/Google Drive/Mestrado/semestre04/Pricing and Hedging/Pricing - Prova 02/BBergValues_split.xlsx';\n",
    "xlsx = pd.ExcelFile(path)\n",
    "usdbrl_df = xlsx.parse('USDBRL')\n",
    "ptax_df = xlsx.parse('PTAX')\n",
    "ibovespa_df = xlsx.parse('Ibovespa')\n",
    "di1Jan21_df = xlsx.parse('DI1Jan21')\n",
    "cdi_df = xlsx.parse('CDI')\n",
    "cds_df = xlsx.parse('CDS')\n",
    "volATM1M_df = xlsx.parse('VolATM1M')\n",
    "volATM3M_df = xlsx.parse('VolATM3M')\n",
    "volATM12M_df = xlsx.parse('VolATM12M')\n",
    "swapPreCDI1M_df = xlsx.parse('SwapPreCDI1M')\n",
    "swapPreCDI3M_df = xlsx.parse('SwapPreCDI3M')\n",
    "swapPreCDI12M_df = xlsx.parse('SwapPreCDI12M')\n",
    "fwd1M_df = xlsx.parse('FWD1M')\n",
    "fwd3M_df = xlsx.parse('FWD3M')\n",
    "fwd12M_df = xlsx.parse('FWD12M')\n",
    "referenceDates_df = pd.DataFrame(usdbrl_df['Date'], columns=['Date'])"
   ]
  },
  {
   "cell_type": "markdown",
   "metadata": {},
   "source": [
    "Calcula a quantidade de dias úteis entre datas:"
   ]
  },
  {
   "cell_type": "code",
   "execution_count": 4,
   "metadata": {
    "collapsed": true
   },
   "outputs": [],
   "source": [
    "def busDaysQty(endDate, startDate):\n",
    "    daysQty = np.busday_count( startDate.date(), endDate.date() )\n",
    "    return daysQty"
   ]
  },
  {
   "cell_type": "markdown",
   "metadata": {},
   "source": [
    "Calcula o valor da opção e o delta utilizando o modelo Black76:\n",
    "\n",
    "http://www.riskencyclopedia.com/articles/black_1976/"
   ]
  },
  {
   "cell_type": "code",
   "execution_count": 5,
   "metadata": {
    "collapsed": true
   },
   "outputs": [],
   "source": [
    "def black76(phi, fwd, K, vol, t, df):\n",
    "    efv=t*(vol**2)\n",
    "    # calculate d1 and d2\n",
    "    d1=(np.log(fwd/K)+(efv/2))/(np.sqrt(efv))\n",
    "    d2=(np.log(fwd/K)-(efv/2))/(np.sqrt(efv))\n",
    "    # calculate N(d1) and N(d2)\n",
    "    Nd1=st.norm.cdf(phi*d1)\n",
    "    Nd2=st.norm.cdf(phi*d2)\n",
    "    # calculate premium\n",
    "    pr=phi*(fwd*Nd1 - K*Nd2)*df\n",
    "    # calculate delta\n",
    "    de=phi*Nd1*df\n",
    "        \n",
    "    return [pr, de]"
   ]
  },
  {
   "cell_type": "markdown",
   "metadata": {},
   "source": [
    "Realiza a interpolação linear entre duas datas e seus respectivos valores:\n",
    "\n",
    "https://en.wikipedia.org/wiki/Linear_interpolation"
   ]
  },
  {
   "cell_type": "code",
   "execution_count": 6,
   "metadata": {
    "collapsed": true
   },
   "outputs": [],
   "source": [
    "def linearInterpolation(date0, value0, date1, value1, targetDate):\n",
    "    targetValue = value0 + (value1 - value0) * busDaysQty(targetDate, date0) / busDaysQty(date1, date0)\n",
    "    return targetValue"
   ]
  },
  {
   "cell_type": "markdown",
   "metadata": {},
   "source": [
    "Interpola a vol utilizando a variância efetiva entre duas datas:\n",
    "\n",
    "https://en.wikipedia.org/wiki/Forward_volatility"
   ]
  },
  {
   "cell_type": "code",
   "execution_count": 7,
   "metadata": {
    "collapsed": true
   },
   "outputs": [],
   "source": [
    "def volInterpolation(date0, value0, date1, value1, t):\n",
    "    effectiveVarianceLongPeriod=busDaysQty(date1, date0)*(value1**2)\n",
    "    effectiveVarianceShortPeriod=busDaysQty(t, date0)*(value0**2)\n",
    "    targetValue = np.sqrt((effectiveVarianceLongPeriod-effectiveVarianceShortPeriod)/(busDaysQty(date1, t)))\n",
    "    return targetValue"
   ]
  },
  {
   "cell_type": "markdown",
   "metadata": {},
   "source": [
    "Calcula o CDI acumulado até o vencimento da opção utilizando interpolação:"
   ]
  },
  {
   "cell_type": "code",
   "execution_count": 8,
   "metadata": {
    "collapsed": true
   },
   "outputs": [],
   "source": [
    "# i is the index to get info from dataframes\n",
    "def calcCDIAtMaturity(currentDate, maturityDate, tenor, i):\n",
    "    if (tenor == 1):\n",
    "        date0=currentDate\n",
    "        value0=cdi_df['PX_LAST'][i]\n",
    "        date1=currentDate + relativedelta(months=1)\n",
    "        value1=swapPreCDI1M_df['PX_LAST'][i]\n",
    "    elif (tenor == 3):\n",
    "        date0=currentDate + relativedelta(months=1)\n",
    "        value0=swapPreCDI1M_df['PX_LAST'][i]\n",
    "        date1=currentDate + relativedelta(months=3)\n",
    "        value1=swapPreCDI3M_df['PX_LAST'][i]\n",
    "    elif (tenor == 12):\n",
    "        date0=currentDate + relativedelta(months=3)\n",
    "        value0=swapPreCDI3M_df['PX_LAST'][i]\n",
    "        date1=currentDate + relativedelta(months=12)\n",
    "        value1=swapPreCDI12M_df['PX_LAST'][i]\n",
    "    \n",
    "    cdiAtMaturity=linearInterpolation(date0, value0, date1, value1, maturityDate)\n",
    "    return cdiAtMaturity"
   ]
  },
  {
   "cell_type": "markdown",
   "metadata": {},
   "source": [
    "Calcula o forward visto no vencimento da opção:"
   ]
  },
  {
   "cell_type": "code",
   "execution_count": 9,
   "metadata": {
    "collapsed": true
   },
   "outputs": [],
   "source": [
    "# i is the index to get info from dataframes\n",
    "def calcFwdAtMaturity(currentDate, maturityDate, tenor, i):\n",
    "    if (tenor == 1):\n",
    "        date0=currentDate\n",
    "        value0=usdbrl_df['PX_LAST'][i]\n",
    "        date1=currentDate + relativedelta(months=1)\n",
    "        value1=fwd1M_df['PX_LAST'][i]\n",
    "    elif (tenor == 3):\n",
    "        date0=currentDate + relativedelta(months=1)\n",
    "        value0=fwd1M_df['PX_LAST'][i]\n",
    "        date1=currentDate + relativedelta(months=3)\n",
    "        value1=fwd3M_df['PX_LAST'][i]\n",
    "    elif (tenor == 12):\n",
    "        date0=currentDate + relativedelta(months=3)\n",
    "        value0=fwd3M_df['PX_LAST'][i]\n",
    "        date1=currentDate + relativedelta(months=12)\n",
    "        value1=fwd12M_df['PX_LAST'][i]  \n",
    "    \n",
    "    fwdAtMaturity=linearInterpolation(date0, value0, date1, value1, maturityDate)\n",
    "    return fwdAtMaturity"
   ]
  },
  {
   "cell_type": "markdown",
   "metadata": {},
   "source": [
    "Calcula a volatilidade implícita ATM vista no vencimento da opção:"
   ]
  },
  {
   "cell_type": "code",
   "execution_count": 10,
   "metadata": {
    "collapsed": true
   },
   "outputs": [],
   "source": [
    "# i is the index to get info from dataframes\n",
    "def calcVolAtMaturity(currentDate, tenor, i):\n",
    "    # interpolating vol\n",
    "    if (tenor == 1):\n",
    "        volAtMaturity=volATM1M_df['PX_LAST'][i]\n",
    "    elif (tenor == 3):\n",
    "        date0=currentDate + relativedelta(months=1)\n",
    "        value0=volATM1M_df['PX_LAST'][i]\n",
    "        date1=currentDate + relativedelta(months=3)\n",
    "        value1=volATM3M_df['PX_LAST'][i]\n",
    "        volAtMaturity=volInterpolation(currentDate, value0, date1, value1, date0)\n",
    "    elif (tenor == 12):\n",
    "        date0=currentDate + relativedelta(months=3)\n",
    "        value0=volATM3M_df['PX_LAST'][i]\n",
    "        date1=currentDate + relativedelta(months=12)\n",
    "        value1=volATM12M_df['PX_LAST'][i]\n",
    "        volAtMaturity=volInterpolation(currentDate, value0, date1, value1, date0)\n",
    "        \n",
    "    return volAtMaturity"
   ]
  },
  {
   "cell_type": "markdown",
   "metadata": {},
   "source": [
    "Gera um dataframe contendo informações que serão utilizadas no cálculo dos cashflows e portfolios.\n",
    "\n",
    "As informações são referentes apenas ao período entre a data de início e o vencimento da opção: data, time to maturity, discount factor, forward, vol, prêmio da opção, delta, cdi overnight."
   ]
  },
  {
   "cell_type": "code",
   "execution_count": 11,
   "metadata": {
    "collapsed": true
   },
   "outputs": [],
   "source": [
    "# Generates partial dataframe with dates and respectives time to maturity, discount factor, \n",
    "def fillPartialDf(phi, position, tenor, startDate):\n",
    "    #stablish dataframe limits\n",
    "    startIndex = referenceDates_df.loc[referenceDates_df['Date'] == startDate].index[0]\n",
    "    maturityDate = startDate + relativedelta(months=tenor)\n",
    "    \n",
    "    #check if maturity date is greater than the last Bloomberg date available\n",
    "    lastRow=len(referenceDates_df['Date'])\n",
    "    if (maturityDate > referenceDates_df['Date'][lastRow-1]):\n",
    "        maturityDate = referenceDates_df['Date'][lastRow-1]\n",
    "\n",
    "    endIndex = referenceDates_df.loc[referenceDates_df['Date'] == maturityDate].index[0]\n",
    "    \n",
    "    #define strike ATMF\n",
    "    if (tenor == 1):\n",
    "        K=fwd1M_df['PX_LAST'][startIndex]\n",
    "    elif (tenor == 3):\n",
    "        K=fwd3M_df['PX_LAST'][startIndex]\n",
    "    elif (tenor == 12):\n",
    "        K=fwd12M_df['PX_LAST'][startIndex]\n",
    "    \n",
    "    #create initial arrays\n",
    "    size=len(referenceDates_df['Date'].loc[startIndex:endIndex])\n",
    "    referenceDate_array = np.empty(size, dtype=datetime.date);\n",
    "    ttm_array = np.empty(size);\n",
    "    discountFactor_array = np.empty(size);\n",
    "    fwdAtMaturity_array = np.empty(size);\n",
    "    volAtMaturity_array = np.empty(size);\n",
    "    premium_array = np.empty(size);\n",
    "    delta_array = np.empty(size);\n",
    "    cdiOver_array = np.empty(size);\n",
    "    \n",
    "    #loop dataframes row by row from start date to maturity\n",
    "    idx=0\n",
    "    for i in range(startIndex,endIndex+1):\n",
    "        currentDate=referenceDates_df['Date'][i]\n",
    "        #calculate time to maturity\n",
    "        ttm=busDaysQty(maturityDate,currentDate)/252\n",
    "        # interpolating CDI\n",
    "        cdiAtMaturity=calcCDIAtMaturity(currentDate, maturityDate, tenor, i)\n",
    "        discountFactor = 1/((1 + (cdiAtMaturity/100))**ttm)\n",
    "        # interpolating Forward\n",
    "        fwdAtMaturity=calcFwdAtMaturity(currentDate, maturityDate, tenor, i)\n",
    "        # interpolating vol\n",
    "        volAtMaturity=calcVolAtMaturity(currentDate, tenor, i)/100\n",
    "    \n",
    "        # calculate premium\n",
    "        if (currentDate == maturityDate):\n",
    "            S = usdbrl_df['PX_LAST'][i]\n",
    "            premium=position*max(phi*(S-K), 0)\n",
    "            delta=0\n",
    "        else:\n",
    "            black76Result = black76(phi, fwdAtMaturity, K, volAtMaturity, ttm, discountFactor)\n",
    "            premium=position*black76Result[0]\n",
    "            delta=position*black76Result[1]\n",
    "    \n",
    "        referenceDate_array[idx]=currentDate\n",
    "        ttm_array[idx]=ttm\n",
    "        discountFactor_array[idx]=discountFactor\n",
    "        fwdAtMaturity_array[idx]=fwdAtMaturity\n",
    "        volAtMaturity_array[idx]=volAtMaturity\n",
    "        premium_array[idx]=premium\n",
    "        delta_array[idx]=delta\n",
    "        # calculate CDI overnight\n",
    "        cdiOver_array[idx]=(1 + (cdi_df['PX_LAST'][i])/100)**(1/252)    \n",
    "        idx = idx + 1\n",
    "    \n",
    "    resultMatrix=np.array([[referenceDate_array[j].date(), ttm_array[j], discountFactor_array[j], \\\n",
    "                            fwdAtMaturity_array[j], volAtMaturity_array[j], premium_array[j], \\\n",
    "                            delta_array[j], cdiOver_array[j]] for j in range(size)])\n",
    "\n",
    "    dfResult = pd.DataFrame(resultMatrix,columns=['date','ttm','df','fwd','vol','premium','delta','cdiOver'])\n",
    "    return dfResult"
   ]
  },
  {
   "cell_type": "markdown",
   "metadata": {},
   "source": [
    "Calcula o valor do portfolio ao longo do período desde início da operação até o vencimento da opção:"
   ]
  },
  {
   "cell_type": "code",
   "execution_count": 12,
   "metadata": {
    "collapsed": true
   },
   "outputs": [],
   "source": [
    "# phi: call or put\n",
    "# position: long or short\n",
    "# includeHedge: indicates if should hedge\n",
    "def calcPortfolio(phi, position, tenor, startDate, includeHedge):\n",
    "    df=fillPartialDf(phi, position, tenor, startDate)\n",
    "    nstp=len(df.index)-1\n",
    "    # cashflows for the option\n",
    "    df['cfwprem']=0\n",
    "    df.loc[0,'cfwprem']=-df['premium'][0]\n",
    "    for j in range(1,nstp+1):\n",
    "        df.loc[j:,'cfwprem']=df['cfwprem'][j-1]*df['cdiOver'][j-1]\n",
    "    \n",
    "    # calculate changes in forward price\n",
    "    df['fwdchg']=df['fwd'].diff()\n",
    "    df.loc[0,'fwdchg']=0\n",
    "    \n",
    "    # hedging cashflows\n",
    "    df['cfwhdg']=0\n",
    "    for j in range(1,nstp+1):\n",
    "        df.loc[j:,'cfwhdg']=df['fwdchg'][j]*df['delta'][j-1]\n",
    "    \n",
    "    # total cashflow\n",
    "    if (includeHedge == 1):\n",
    "        df['cfwtotal']=df['cfwprem']+df['cfwhdg']\n",
    "    else:\n",
    "        df['cfwtotal']=df['cfwprem']\n",
    "    \n",
    "    # portfolio\n",
    "    df['portf']=df['premium']+df['cfwtotal']\n",
    "    return pd.Series(df['portf'].values, index=df['date'].values)"
   ]
  },
  {
   "cell_type": "code",
   "execution_count": null,
   "metadata": {
    "collapsed": true
   },
   "outputs": [],
   "source": []
  }
 ],
 "metadata": {
  "kernelspec": {
   "display_name": "Python 3",
   "language": "python",
   "name": "python3"
  },
  "language_info": {
   "codemirror_mode": {
    "name": "ipython",
    "version": 3
   },
   "file_extension": ".py",
   "mimetype": "text/x-python",
   "name": "python",
   "nbconvert_exporter": "python",
   "pygments_lexer": "ipython3",
   "version": "3.5.1"
  }
 },
 "nbformat": 4,
 "nbformat_minor": 0
}
