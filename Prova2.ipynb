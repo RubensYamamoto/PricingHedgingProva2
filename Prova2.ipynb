{
 "cells": [
  {
   "cell_type": "markdown",
   "metadata": {},
   "source": [
    "# Prova 2\n",
    "\n",
    "Parabéns! Após um bem-sucedido mestrado em métodos matemáticos, vocês foram escolhidos como quants\n",
    "do fundo Short Term INtelliGence (STING).\n",
    "O fundo está no Brasil, funding e benchmark são o CDI; as vols são offshore mas pode usar como se fosse\n",
    "onshore.\n",
    "\n",
    "De posse de uma série histórica de preços, responda as seguintes questões:\n",
    "\n",
    "#### Exercício 1:\n",
    "Como estimar o risco dos portfolios do fundo a partir das séries de preços? Aponte as diferenças entre como\n",
    "estimar o risco entre os diferentes tipos de séries. Assuma que esse cálculo está sendo feito em 31-Mar-2016."
   ]
  },
  {
   "cell_type": "markdown",
   "metadata": {},
   "source": [
    "Primeiro dividi cada conjunto de informações do arquivo em sheets diferentes e carreguei cada um em dataframe:"
   ]
  },
  {
   "cell_type": "code",
   "execution_count": 10,
   "metadata": {
    "collapsed": false
   },
   "outputs": [],
   "source": [
    "import pandas as pd\n",
    "import numpy as np\n",
    "import scipy.stats as st\n",
    "\n",
    "path = 'C:/Users/RUBENS_PC/Google Drive/Mestrado/semestre04/Pricing and Hedging/Pricing - Prova 02/BBergValues_split.xlsx';\n",
    "xlsx = pd.ExcelFile(path)\n",
    "usdbrl_df = xlsx.parse('USDBRL')\n",
    "ptax_df = xlsx.parse('PTAX')\n",
    "ibovespa_df = xlsx.parse('Ibovespa')\n",
    "di1Jan21_df = xlsx.parse('DI1Jan21')\n",
    "cdi_df = xlsx.parse('CDI')\n",
    "cds_df = xlsx.parse('CDS')\n",
    "volATM1M_df = xlsx.parse('VolATM1M')\n",
    "volATM3M_df = xlsx.parse('VolATM3M')\n",
    "volATM12M_df = xlsx.parse('VolATM12M')\n",
    "swapPreCDI1M_df = xlsx.parse('SwapPreCDI1M')\n",
    "swapPreCDI3M_df = xlsx.parse('SwapPreCDI3M')\n",
    "swapPreCDI12M_df = xlsx.parse('SwapPreCDI12M')\n",
    "fwd1M_df = xlsx.parse('FWD1M')\n",
    "fwd3M_df = xlsx.parse('FWD3M')\n",
    "fwd12M_df = xlsx.parse('FWD12M')\n"
   ]
  },
  {
   "cell_type": "markdown",
   "metadata": {
    "collapsed": true
   },
   "source": [
    "### Exercício 3:\n",
    "Em 30-Jun-2015 vários traders compraram opções de compra de USD (venda de BRL) ATMF para diferentes\n",
    "prazos. Use os dados anexos, interpolação linear para spot e forwards, e a interpolação adequada para vols\n",
    "ATMF (vol forward constante, variância efetiva é a soma das variâncias efetivas) para estimar os resultados\n",
    "finais e perdas máximas de cada um dos traders."
   ]
  },
  {
   "cell_type": "markdown",
   "metadata": {},
   "source": [
    "Preparando os métodos baseados no Black 76:"
   ]
  },
  {
   "cell_type": "code",
   "execution_count": 33,
   "metadata": {
    "collapsed": true
   },
   "outputs": [],
   "source": [
    "# Black 76 formula\n",
    "# phi: 1 = call e -1 = put;\n",
    "# fwd: forward price\n",
    "# K: strike\n",
    "# vol: volatility\n",
    "# df: discount factor\n",
    "# t: time to maturity\n",
    "\n",
    "def black76(phi, fwd, K, vol, t, df):\n",
    "    efv=t*(vol**2)\n",
    "    # calculate d1 and d2\n",
    "    d1=(np.log(fwd/K)+(efv/2))/(np.sqrt(efv))\n",
    "    d2=(np.log(fwd/K)-(efv/2))/(np.sqrt(efv))\n",
    "    # calculate N(d1) and N(d2)\n",
    "    Nd1=st.norm.cdf(phi*d1)\n",
    "    Nd2=st.norm.cdf(phi*d2)\n",
    "    # calculate premium\n",
    "    pr=phi*(fwd*Nd1 - K*Nd2)*df\n",
    "    # calculate delta\n",
    "    de=phi*Nd1*df\n",
    "        \n",
    "    return [pr, de]\n",
    "\n",
    "call=1\n",
    "put=-1"
   ]
  },
  {
   "cell_type": "markdown",
   "metadata": {},
   "source": [
    "(a) O primeiro comprou uma opção de 1m e carregou sem hedge até o final."
   ]
  },
  {
   "cell_type": "markdown",
   "metadata": {},
   "source": [
    "Vamos calcular o preço e o delta da call de 1M no dia 30-Jun-2015:"
   ]
  },
  {
   "cell_type": "code",
   "execution_count": 34,
   "metadata": {
    "collapsed": false
   },
   "outputs": [
    {
     "data": {
      "text/plain": [
       "(3.1364000000000001,\n",
       " 3.1364000000000001,\n",
       " 0.16111999999999999,\n",
       " 0.0821917808219178,\n",
       " 0.98952100449935765)"
      ]
     },
     "execution_count": 34,
     "metadata": {},
     "output_type": "execute_result"
    }
   ],
   "source": [
    "fxfwd = fwd1M_df.loc[fwd1M_df['Date'] == '30-Jun-2015']['PX_LAST'].values[0] # Forward 1 mês (On)\n",
    "volATM1M = volATM1M_df.loc[volATM1M_df['Date'] == '30-Jun-2015']['PX_LAST'].values[0] # Vol Implícita ATM 1 mês (Off)\n",
    "swapPreCDI1M = swapPreCDI1M_df.loc[swapPreCDI1M_df['Date'] == '30-Jun-2015']['PX_LAST'].values[0] # Swap Pré-CDI 1 mês\n",
    "\n",
    "K = fxfwd # ATMF\n",
    "vol = volATM1M/100\n",
    "t = 30/365\n",
    "df = 1/((1 + (swapPreCDI1M/100))**t)\n",
    "\n",
    "fxfwd, K, vol, t, df"
   ]
  },
  {
   "cell_type": "code",
   "execution_count": 35,
   "metadata": {
    "collapsed": false
   },
   "outputs": [
    {
     "data": {
      "text/plain": [
       "[0.057186243352910809, 0.50387704404168732]"
      ]
     },
     "execution_count": 35,
     "metadata": {},
     "output_type": "execute_result"
    }
   ],
   "source": [
    "black76D0 = black76(call, fxfwd, K, vol, t, df)\n",
    "black76D0"
   ]
  },
  {
   "cell_type": "markdown",
   "metadata": {
    "collapsed": false
   },
   "source": [
    "##### Calculando o preço e o delta da opção para o dia 1-Jul-2015.\n",
    "\n",
    "Primeiro devemos encontrar o FWD para o vencimento da opção (30-Jul-2015), interpolando o USDBRL do dia 1-Jul-2015 com o FWD de 1 mês também visto no dia 1-Jul-2015:"
   ]
  },
  {
   "cell_type": "code",
   "execution_count": 36,
   "metadata": {
    "collapsed": true
   },
   "outputs": [],
   "source": [
    "def linearInterpolation(x0, y0, x1, y1, x):\n",
    "    y = y0 + (y1 - y0) * (x - x0) / (x1 - x0)\n",
    "    return y"
   ]
  },
  {
   "cell_type": "code",
   "execution_count": null,
   "metadata": {
    "collapsed": true
   },
   "outputs": [],
   "source": []
  }
 ],
 "metadata": {
  "kernelspec": {
   "display_name": "Python 3",
   "language": "python",
   "name": "python3"
  },
  "language_info": {
   "codemirror_mode": {
    "name": "ipython",
    "version": 3
   },
   "file_extension": ".py",
   "mimetype": "text/x-python",
   "name": "python",
   "nbconvert_exporter": "python",
   "pygments_lexer": "ipython3",
   "version": "3.5.1"
  }
 },
 "nbformat": 4,
 "nbformat_minor": 0
}
