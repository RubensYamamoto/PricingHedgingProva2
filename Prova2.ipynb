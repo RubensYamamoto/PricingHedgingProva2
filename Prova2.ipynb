{
 "cells": [
  {
   "cell_type": "markdown",
   "metadata": {},
   "source": [
    "# Prova 2\n",
    "\n",
    "Parabéns! Após um bem-sucedido mestrado em métodos matemáticos, vocês foram escolhidos como quants\n",
    "do fundo Short Term INtelliGence (STING).\n",
    "O fundo está no Brasil, funding e benchmark são o CDI; as vols são offshore mas pode usar como se fosse\n",
    "onshore.\n",
    "\n",
    "De posse de uma série histórica de preços, responda as seguintes questões:\n",
    "\n",
    "#### Exercício 1:\n",
    "Como estimar o risco dos portfolios do fundo a partir das séries de preços? Aponte as diferenças entre como\n",
    "estimar o risco entre os diferentes tipos de séries. Assuma que esse cálculo está sendo feito em 31-Mar-2016."
   ]
  },
  {
   "cell_type": "markdown",
   "metadata": {},
   "source": [
    "Primeiro dividi cada conjunto de informações do arquivo em sheets diferentes e carreguei cada um em dataframe:"
   ]
  },
  {
   "cell_type": "code",
   "execution_count": 17,
   "metadata": {
    "collapsed": false
   },
   "outputs": [],
   "source": [
    "import pandas as pd\n",
    "import numpy as np\n",
    "import scipy.stats as st\n",
    "\n",
    "path = 'C:/Users/RUBENS_PC/Google Drive/Mestrado/semestre04/Pricing and Hedging/Pricing - Prova 02/BBergValues_split.xlsx';\n",
    "xlsx = pd.ExcelFile(path)\n",
    "usdbrl_df = xlsx.parse('USDBRL')\n",
    "ptax_df = xlsx.parse('PTAX')\n",
    "ibovespa_df = xlsx.parse('Ibovespa')\n",
    "di1Jan21_df = xlsx.parse('DI1Jan21')\n",
    "cdi_df = xlsx.parse('CDI')\n",
    "cds_df = xlsx.parse('CDS')\n",
    "volATM1M_df = xlsx.parse('VolATM1M')\n",
    "volATM3M_df = xlsx.parse('VolATM3M')\n",
    "volATM12M_df = xlsx.parse('VolATM12M')\n",
    "swapPreCDI1M_df = xlsx.parse('SwapPreCDI1M')\n",
    "swapPreCDI3M_df = xlsx.parse('SwapPreCDI3M')\n",
    "swapPreCDI12M_df = xlsx.parse('SwapPreCDI12M')\n",
    "fwd1M_df = xlsx.parse('FWD1M')\n",
    "fwd3M_df = xlsx.parse('FWD3M')\n",
    "fwd12M_df = xlsx.parse('FWD12M')\n"
   ]
  },
  {
   "cell_type": "code",
   "execution_count": 18,
   "metadata": {
    "collapsed": false
   },
   "outputs": [
    {
     "data": {
      "text/plain": [
       "Timestamp('2016-03-31 00:00:00')"
      ]
     },
     "execution_count": 18,
     "metadata": {},
     "output_type": "execute_result"
    }
   ],
   "source": [
    "usdbrl_df['Date'][586]"
   ]
  },
  {
   "cell_type": "markdown",
   "metadata": {
    "collapsed": true
   },
   "source": [
    "### Exercício 3:\n",
    "Em 30-Jun-2015 vários traders compraram opções de compra de USD (venda de BRL) ATMF para diferentes\n",
    "prazos. Use os dados anexos, interpolação linear para spot e forwards, e a interpolação adequada para vols\n",
    "ATMF (vol forward constante, variância efetiva é a soma das variâncias efetivas) para estimar os resultados\n",
    "finais e perdas máximas de cada um dos traders."
   ]
  },
  {
   "cell_type": "markdown",
   "metadata": {},
   "source": [
    "Preparando os métodos baseados no material de finanças do segundo semestre:"
   ]
  },
  {
   "cell_type": "code",
   "execution_count": 19,
   "metadata": {
    "collapsed": true
   },
   "outputs": [],
   "source": [
    "# Black-Scholes formula for fx options\n",
    "# phi: 1 = call e -1 = put;\n",
    "# Q: quantity of CCY2 contracts;\n",
    "# M: multiplier\n",
    "# fxfwd: is the CCY1/CCY2 fx forward price seen at t for settlement date Tsettle\n",
    "# K: strike\n",
    "# vol: effective variance from t to Tex\n",
    "# fwdDf: forward discount factor in CCY1 seen at date t from fx option premium payment date tpay to fx option payoff date Tpay\n",
    "# t: computed from t to fx option expiry date Tex\n",
    "\n",
    "def fxBsv(phi, Q, M, fxfwd, K, vol, fwdDf, t):\n",
    "    efv=t*(vol**2)\n",
    "    # calculate d1 and d2\n",
    "    d1=(np.log(fxfwd/K)+(efv/2))/(np.sqrt(efv))\n",
    "    d2=(np.log(fxfwd/K)-(efv/2))/(np.sqrt(efv))\n",
    "    # calculate N(d1) and N(d2)\n",
    "    Nd1=st.norm.cdf(phi*d1)\n",
    "    Nd2=st.norm.cdf(phi*d2)\n",
    "    # calculate premium\n",
    "    pr=phi*Q*M*(fxfwd*Nd1-K*Nd2)*fwdDf\n",
    "    # calculate delta\n",
    "    de=phi*Nd1\n",
    "        \n",
    "    return [pr, de]\n",
    "\n",
    "def fxPayoff(phi, Q, M, K, ptax):\n",
    "    de = 0\n",
    "    pr = Q*M*max(phi*(ptax-K), 0)\n",
    "    return [pr, de]\n",
    "\n",
    "call=1\n",
    "put=-1"
   ]
  },
  {
   "cell_type": "markdown",
   "metadata": {},
   "source": [
    "(a) O primeiro comprou uma opção de 1m e carregou sem hedge até o final."
   ]
  },
  {
   "cell_type": "markdown",
   "metadata": {},
   "source": [
    "Vamos calcular o preço e o delta da call de 1M no dia 30-Jun-2015 (data referente ao índice 389 dos dataframes contruídos):"
   ]
  },
  {
   "cell_type": "code",
   "execution_count": 20,
   "metadata": {
    "collapsed": false
   },
   "outputs": [
    {
     "data": {
      "text/plain": [
       "(Timestamp('2015-06-30 00:00:00'),\n",
       " 3.1364000000000001,\n",
       " 3.1364000000000001,\n",
       " 16.111999999999998,\n",
       " 13.674300000000001)"
      ]
     },
     "execution_count": 20,
     "metadata": {},
     "output_type": "execute_result"
    }
   ],
   "source": [
    "Q = 1\n",
    "M = 1\n",
    "fxfwd = fwd1M_df['PX_LAST'][389] # Forward 1 mês (On)\n",
    "K = fwd1M_df['PX_LAST'][389] # ATMF\n",
    "vol = volATM1M_df['PX_LAST'][389] # Vol Implícita ATM 1 mês (Off)\n",
    "fwdDf = swapPreCDI1M_df['PX_LAST'][389] # Swap Pré-CDI 1 mês\n",
    "t = 1/12\n",
    "\n",
    "fwd1M_df['Date'][389], fxfwd, K, vol, fwdDf"
   ]
  },
  {
   "cell_type": "code",
   "execution_count": 21,
   "metadata": {
    "collapsed": false
   },
   "outputs": [
    {
     "data": {
      "text/plain": [
       "[42.028525972052883, 0.98997916603196667]"
      ]
     },
     "execution_count": 21,
     "metadata": {},
     "output_type": "execute_result"
    }
   ],
   "source": [
    "test1 = fxBsv(call, Q, M, fxfwd, K, vol, fwdDf, t)\n",
    "test1"
   ]
  },
  {
   "cell_type": "code",
   "execution_count": null,
   "metadata": {
    "collapsed": true
   },
   "outputs": [],
   "source": []
  }
 ],
 "metadata": {
  "kernelspec": {
   "display_name": "Python 3",
   "language": "python",
   "name": "python3"
  },
  "language_info": {
   "codemirror_mode": {
    "name": "ipython",
    "version": 3
   },
   "file_extension": ".py",
   "mimetype": "text/x-python",
   "name": "python",
   "nbconvert_exporter": "python",
   "pygments_lexer": "ipython3",
   "version": "3.5.1"
  }
 },
 "nbformat": 4,
 "nbformat_minor": 0
}
